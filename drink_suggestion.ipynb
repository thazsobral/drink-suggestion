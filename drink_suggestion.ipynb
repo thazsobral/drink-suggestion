{
  "nbformat": 4,
  "nbformat_minor": 0,
  "metadata": {
    "colab": {
      "provenance": [],
      "authorship_tag": "ABX9TyPxe5CnwLo08dzjs2E9WX+a",
      "include_colab_link": true
    },
    "kernelspec": {
      "name": "python3",
      "display_name": "Python 3"
    },
    "language_info": {
      "name": "python"
    }
  },
  "cells": [
    {
      "cell_type": "markdown",
      "metadata": {
        "id": "view-in-github",
        "colab_type": "text"
      },
      "source": [
        "<a href=\"https://colab.research.google.com/github/thazsobral/drink-suggestion/blob/main/drink_suggestion.ipynb\" target=\"_parent\"><img src=\"https://colab.research.google.com/assets/colab-badge.svg\" alt=\"Open In Colab\"/></a>"
      ]
    },
    {
      "cell_type": "markdown",
      "source": [
        "# Comece por aqui"
      ],
      "metadata": {
        "id": "RZVSAJWq3C00"
      }
    },
    {
      "cell_type": "markdown",
      "source": [
        "Esse é um projeto interessante e combina inteligência artificial com personalização de experiências! Abaixo estão os passos para desenvolver o MVP do seu gerador de receitas de drinks personalizado:"
      ],
      "metadata": {
        "id": "D1eqasof2VXt"
      }
    },
    {
      "cell_type": "markdown",
      "source": [
        "## Fontes\n",
        "- https://imagepig.com/docs/ - geração de imagens\n",
        "- https://ai.google.dev/gemini-api/docs - LLM\n",
        "- https://nominatim.org/release-docs/latest/library/Getting-Started/ - busca pela localização"
      ],
      "metadata": {
        "id": "Rxjul0CB3GYk"
      }
    },
    {
      "cell_type": "markdown",
      "source": [
        "## Etapas do MVP\n",
        "1. Definir os requisitos\n",
        "Entrada:\n",
        "Localização (informada pelo usuário).\n",
        "Estação do ano (pode ser derivada da localização ou informada pelo usuário).\n",
        "Saída:\n",
        "Receita personalizada de drink.\n",
        "Ingredientes e instruções de preparo.\n",
        "2. Ferramentas e bibliotecas\n",
        "Python: Para desenvolvimento.\n",
        "Google Colab: Para execução e compartilhamento do MVP.\n",
        "Bibliotecas recomendadas:\n",
        "OpenAI API (ou outro modelo LLM): Para gerar receitas de drinks.\n",
        "Geopy: Para validar ou processar a localização (opcional).\n",
        "Datetime: Para determinar a estação do ano, se necessário.\n",
        "Matplotlib/Seaborn (opcional): Para apresentar receitas em formato gráfico ou visual.\n",
        "3. Desenvolvimento do MVP\n",
        "Estrutura básica do código:\n",
        "Input: Solicitar ao usuário a localização.\n",
        "Determinar a estação do ano (ou validar o input do usuário).\n",
        "Usar um LLM (como ChatGPT) para gerar uma receita com base nos inputs.\n",
        "Exibir a receita de forma organizada."
      ],
      "metadata": {
        "id": "v8tiQ3032Z29"
      }
    },
    {
      "cell_type": "markdown",
      "source": [
        "# Exemplo de Código"
      ],
      "metadata": {
        "id": "acPd2-z32hE8"
      }
    },
    {
      "cell_type": "code",
      "execution_count": null,
      "metadata": {
        "colab": {
          "base_uri": "https://localhost:8080/"
        },
        "id": "4eGnmRrqzCuZ",
        "outputId": "4f9c318d-d47b-4def-87f5-56dfc4650598"
      },
      "outputs": [
        {
          "output_type": "stream",
          "name": "stdout",
          "text": [
            "Requirement already satisfied: google-generativeai in /usr/local/lib/python3.10/dist-packages (0.8.3)\n",
            "Requirement already satisfied: google-ai-generativelanguage==0.6.10 in /usr/local/lib/python3.10/dist-packages (from google-generativeai) (0.6.10)\n",
            "Requirement already satisfied: google-api-core in /usr/local/lib/python3.10/dist-packages (from google-generativeai) (2.19.2)\n",
            "Requirement already satisfied: google-api-python-client in /usr/local/lib/python3.10/dist-packages (from google-generativeai) (2.155.0)\n",
            "Requirement already satisfied: google-auth>=2.15.0 in /usr/local/lib/python3.10/dist-packages (from google-generativeai) (2.27.0)\n",
            "Requirement already satisfied: protobuf in /usr/local/lib/python3.10/dist-packages (from google-generativeai) (4.25.5)\n",
            "Requirement already satisfied: pydantic in /usr/local/lib/python3.10/dist-packages (from google-generativeai) (2.10.3)\n",
            "Requirement already satisfied: tqdm in /usr/local/lib/python3.10/dist-packages (from google-generativeai) (4.67.1)\n",
            "Requirement already satisfied: typing-extensions in /usr/local/lib/python3.10/dist-packages (from google-generativeai) (4.12.2)\n",
            "Requirement already satisfied: proto-plus<2.0.0dev,>=1.22.3 in /usr/local/lib/python3.10/dist-packages (from google-ai-generativelanguage==0.6.10->google-generativeai) (1.25.0)\n",
            "Requirement already satisfied: googleapis-common-protos<2.0.dev0,>=1.56.2 in /usr/local/lib/python3.10/dist-packages (from google-api-core->google-generativeai) (1.66.0)\n",
            "Requirement already satisfied: requests<3.0.0.dev0,>=2.18.0 in /usr/local/lib/python3.10/dist-packages (from google-api-core->google-generativeai) (2.32.3)\n",
            "Requirement already satisfied: cachetools<6.0,>=2.0.0 in /usr/local/lib/python3.10/dist-packages (from google-auth>=2.15.0->google-generativeai) (5.5.0)\n",
            "Requirement already satisfied: pyasn1-modules>=0.2.1 in /usr/local/lib/python3.10/dist-packages (from google-auth>=2.15.0->google-generativeai) (0.4.1)\n",
            "Requirement already satisfied: rsa<5,>=3.1.4 in /usr/local/lib/python3.10/dist-packages (from google-auth>=2.15.0->google-generativeai) (4.9)\n",
            "Requirement already satisfied: httplib2<1.dev0,>=0.19.0 in /usr/local/lib/python3.10/dist-packages (from google-api-python-client->google-generativeai) (0.22.0)\n",
            "Requirement already satisfied: google-auth-httplib2<1.0.0,>=0.2.0 in /usr/local/lib/python3.10/dist-packages (from google-api-python-client->google-generativeai) (0.2.0)\n",
            "Requirement already satisfied: uritemplate<5,>=3.0.1 in /usr/local/lib/python3.10/dist-packages (from google-api-python-client->google-generativeai) (4.1.1)\n",
            "Requirement already satisfied: annotated-types>=0.6.0 in /usr/local/lib/python3.10/dist-packages (from pydantic->google-generativeai) (0.7.0)\n",
            "Requirement already satisfied: pydantic-core==2.27.1 in /usr/local/lib/python3.10/dist-packages (from pydantic->google-generativeai) (2.27.1)\n",
            "Requirement already satisfied: grpcio<2.0dev,>=1.33.2 in /usr/local/lib/python3.10/dist-packages (from google-api-core[grpc]!=2.0.*,!=2.1.*,!=2.10.*,!=2.2.*,!=2.3.*,!=2.4.*,!=2.5.*,!=2.6.*,!=2.7.*,!=2.8.*,!=2.9.*,<3.0.0dev,>=1.34.1->google-ai-generativelanguage==0.6.10->google-generativeai) (1.68.1)\n",
            "Requirement already satisfied: grpcio-status<2.0.dev0,>=1.33.2 in /usr/local/lib/python3.10/dist-packages (from google-api-core[grpc]!=2.0.*,!=2.1.*,!=2.10.*,!=2.2.*,!=2.3.*,!=2.4.*,!=2.5.*,!=2.6.*,!=2.7.*,!=2.8.*,!=2.9.*,<3.0.0dev,>=1.34.1->google-ai-generativelanguage==0.6.10->google-generativeai) (1.62.3)\n",
            "Requirement already satisfied: pyparsing!=3.0.0,!=3.0.1,!=3.0.2,!=3.0.3,<4,>=2.4.2 in /usr/local/lib/python3.10/dist-packages (from httplib2<1.dev0,>=0.19.0->google-api-python-client->google-generativeai) (3.2.0)\n",
            "Requirement already satisfied: pyasn1<0.7.0,>=0.4.6 in /usr/local/lib/python3.10/dist-packages (from pyasn1-modules>=0.2.1->google-auth>=2.15.0->google-generativeai) (0.6.1)\n",
            "Requirement already satisfied: charset-normalizer<4,>=2 in /usr/local/lib/python3.10/dist-packages (from requests<3.0.0.dev0,>=2.18.0->google-api-core->google-generativeai) (3.4.0)\n",
            "Requirement already satisfied: idna<4,>=2.5 in /usr/local/lib/python3.10/dist-packages (from requests<3.0.0.dev0,>=2.18.0->google-api-core->google-generativeai) (3.10)\n",
            "Requirement already satisfied: urllib3<3,>=1.21.1 in /usr/local/lib/python3.10/dist-packages (from requests<3.0.0.dev0,>=2.18.0->google-api-core->google-generativeai) (2.2.3)\n",
            "Requirement already satisfied: certifi>=2017.4.17 in /usr/local/lib/python3.10/dist-packages (from requests<3.0.0.dev0,>=2.18.0->google-api-core->google-generativeai) (2024.12.14)\n",
            "Collecting imagepig\n",
            "  Downloading imagepig-1.0.7-py3-none-any.whl.metadata (1.4 kB)\n",
            "Requirement already satisfied: requests in /usr/local/lib/python3.10/dist-packages (from imagepig) (2.32.3)\n",
            "Requirement already satisfied: charset-normalizer<4,>=2 in /usr/local/lib/python3.10/dist-packages (from requests->imagepig) (3.4.0)\n",
            "Requirement already satisfied: idna<4,>=2.5 in /usr/local/lib/python3.10/dist-packages (from requests->imagepig) (3.10)\n",
            "Requirement already satisfied: urllib3<3,>=1.21.1 in /usr/local/lib/python3.10/dist-packages (from requests->imagepig) (2.2.3)\n",
            "Requirement already satisfied: certifi>=2017.4.17 in /usr/local/lib/python3.10/dist-packages (from requests->imagepig) (2024.12.14)\n",
            "Downloading imagepig-1.0.7-py3-none-any.whl (4.6 kB)\n",
            "Installing collected packages: imagepig\n",
            "Successfully installed imagepig-1.0.7\n"
          ]
        }
      ],
      "source": [
        "# Instalar a biblioteca no Google Colab\n",
        "!pip install google-generativeai\n",
        "!pip install imagepig"
      ]
    },
    {
      "cell_type": "code",
      "source": [
        "# Importar bibliotecas\n",
        "#import google.generativeai as palm\n",
        "import google.generativeai as genai\n",
        "from datetime import datetime\n",
        "from geopy.geocoders import Nominatim\n",
        "from imagepig import ImagePig"
      ],
      "metadata": {
        "id": "orMwTaWp2pBk"
      },
      "execution_count": null,
      "outputs": []
    },
    {
      "cell_type": "code",
      "source": [
        "# Configurar chave da API\n",
        "genai.configure(api_key=\"<API_KEY>\")"
      ],
      "metadata": {
        "id": "cb3A5iMs2ql8"
      },
      "execution_count": null,
      "outputs": []
    },
    {
      "cell_type": "code",
      "source": [
        "# Configurar chave da API de imagem\n",
        "imagepig = ImagePig(\"<API_KEY>\")"
      ],
      "metadata": {
        "id": "hPUMvsgsP-sB"
      },
      "execution_count": null,
      "outputs": []
    },
    {
      "cell_type": "code",
      "source": [
        "# Configurar modelo\n",
        "model = genai.GenerativeModel(\"gemini-1.5-flash\")\n",
        "\n",
        "config_model = genai.GenerationConfig(\n",
        "        max_output_tokens=1000,\n",
        "        temperature=0.1,\n",
        ")"
      ],
      "metadata": {
        "id": "1ZwrTMc54UXd"
      },
      "execution_count": null,
      "outputs": []
    },
    {
      "cell_type": "code",
      "source": [
        "# Função para determinar estação do ano (hemisfério simplificado)\n",
        "def obter_estacao(lat):\n",
        "    mes = datetime.now().month\n",
        "    hemisferio = \"norte\" if lat >= 0 else \"sul\"\n",
        "\n",
        "    if hemisferio == \"norte\":\n",
        "        if mes in [12, 1, 2]:\n",
        "            return \"Inverno\"\n",
        "        elif mes in [3, 4, 5]:\n",
        "            return \"Primavera\"\n",
        "        elif mes in [6, 7, 8]:\n",
        "            return \"Verão\"\n",
        "        else:\n",
        "            return \"Outono\"\n",
        "    else:\n",
        "        if mes in [12, 1, 2]:\n",
        "            return \"Verão\"\n",
        "        elif mes in [3, 4, 5]:\n",
        "            return \"Outono\"\n",
        "        elif mes in [6, 7, 8]:\n",
        "            return \"Inverno\"\n",
        "        else:\n",
        "            return \"Primavera\""
      ],
      "metadata": {
        "id": "WYbVKs_y2zpj"
      },
      "execution_count": null,
      "outputs": []
    },
    {
      "cell_type": "code",
      "source": [
        "# Função para obter a localização a partir de latitude e longitude\n",
        "def obter_localizacao(lat, lon):\n",
        "    geolocator = Nominatim(user_agent=\"drink_generator\")\n",
        "    try:\n",
        "        localizacao = geolocator.reverse((lat, lon), exactly_one=True)\n",
        "        return localizacao.address if localizacao else \"Localização desconhecida\"\n",
        "    except Exception as e:\n",
        "        return f\"Erro ao obter localização: {e}\""
      ],
      "metadata": {
        "id": "j8dETbFN7MnP"
      },
      "execution_count": null,
      "outputs": []
    },
    {
      "cell_type": "code",
      "source": [
        "# Função para gerar receita usando Gemini\n",
        "def gerar_receita(localizacao, estacao):\n",
        "    prompt = f\"Crie uma receita de drink único para {estacao}, personalizado para a localização ({localizacao}). Obs.: utilize os produtos da Companhia Müller de Bebidas como base dos drinks. Inclua os ingredientes e o modo de preparo.\"\n",
        "\n",
        "    response = model.generate_content(prompt, generation_config = config_model)\n",
        "\n",
        "    #return response.last if response else \"Não foi possível gerar a receita.\"\n",
        "    return response.text"
      ],
      "metadata": {
        "id": "txAgiliz21zL"
      },
      "execution_count": null,
      "outputs": []
    },
    {
      "cell_type": "code",
      "source": [
        "def generate_drink_description(drink_description):\n",
        "  f\"\"\"\n",
        "  Gera uma descrição de imagem:\n",
        "\n",
        "  descrição do drink: {drink_description}.\n",
        "  \"\"\"\n",
        "  image_description = f\"A photorealistic image of {drink_description}.\"\n",
        "  return image_description"
      ],
      "metadata": {
        "id": "qVsYV16RONxO"
      },
      "execution_count": null,
      "outputs": []
    },
    {
      "cell_type": "code",
      "source": [
        "def generate_drink_image(drink_description):\n",
        "  result = imagepig.default(drink_description)\n",
        "  result.save(\"image.jpeg\")"
      ],
      "metadata": {
        "id": "36Y4s_-nPqsL"
      },
      "execution_count": null,
      "outputs": []
    },
    {
      "cell_type": "code",
      "source": [
        "# Interface principal\n",
        "def main():\n",
        "    print(\"Gerador de Receitas de Drinks Personalizados\\n\")\n",
        "    try:\n",
        "        latitude = float(input(\"Informe a latitude (ex: -23.5): \"))\n",
        "        longitude = float(input(\"Informe a longitude (ex: -46.6): \"))\n",
        "\n",
        "        # Obter localização e estação do ano\n",
        "        localizacao = obter_localizacao(latitude, longitude)\n",
        "        estacao = obter_estacao(latitude)\n",
        "\n",
        "        print(f\"\\nLocalização: {localizacao}\")\n",
        "        print(f\"Estação atual: {estacao}\\n\")\n",
        "\n",
        "        # Gerar receita\n",
        "        receita = gerar_receita(localizacao, estacao)\n",
        "        print(\"Receita gerada:\\n\")\n",
        "        print(receita)\n",
        "\n",
        "        # gerar descrição da imagem do drink\n",
        "        drink_description = generate_drink_description(receita)\n",
        "        drink_image = generate_drink_image(drink_description)\n",
        "    except ValueError:\n",
        "        print(\"Erro: Latitude e longitude devem ser números.\")\n",
        "    except Exception as e:\n",
        "        print(f\"Erro inesperado: {e}\")"
      ],
      "metadata": {
        "id": "nA9kObkl25ET"
      },
      "execution_count": null,
      "outputs": []
    },
    {
      "cell_type": "markdown",
      "source": [
        "Sugesão: use o site https://www.mapsdirections.info/pt/coordenadas-gps.html para capturar a latitude e longitude."
      ],
      "metadata": {
        "id": "J8S4LiYZWFSD"
      }
    },
    {
      "cell_type": "code",
      "source": [
        "# Rodar MVP\n",
        "if __name__ == \"__main__\":\n",
        "    main()"
      ],
      "metadata": {
        "colab": {
          "base_uri": "https://localhost:8080/",
          "height": 940
        },
        "id": "snTFh17h27u7",
        "outputId": "e4263438-4888-44ee-c84f-ae57b0da3ac7"
      },
      "execution_count": null,
      "outputs": [
        {
          "output_type": "stream",
          "name": "stdout",
          "text": [
            "Gerador de Receitas de Drinks Personalizados\n",
            "\n",
            "Informe a latitude (ex: -23.5): -21.9980468\n",
            "Informe a longitude (ex: -46.6): -47.4280861\n",
            "\n",
            "Localização: Rua José Bonifácio, Pirassununga, Região Imediata de São Carlos, Região Metropolitana de Piracicaba, Região Geográfica Intermediária de Araraquara, São Paulo, Região Sudeste, 13634-059, Brasil\n",
            "Estação atual: Verão\n",
            "\n",
            "Receita gerada:\n",
            "\n",
            "## Pirassununga Sunset: Um Drink para o Verão Paulista\n",
            "\n",
            "Este drink, inspirado na atmosfera quente e vibrante do verão em Pirassununga, utiliza produtos da Companhia Müller de Bebidas e ingredientes frescos para criar uma experiência refrescante e única.  A receita leva em conta o clima da região, buscando um equilíbrio entre doçura e acidez.\n",
            "\n",
            "**Inspiração:** O pôr do sol sobre a paisagem de Pirassununga, com seus tons quentes e a brisa suave do final de tarde.\n",
            "\n",
            "**Ingredientes (para 1 dose):**\n",
            "\n",
            "* 50ml de Cachaça Müller de Alambique (ou outra cachaça branca da Müller)\n",
            "* 25ml de Suco de Maracujá (preferencialmente fresco e sem açúcar)\n",
            "* 15ml de Xarope de Gengibre (receita abaixo)\n",
            "* 10ml de Licor de Limão Siciliano (se disponível, caso contrário, utilize suco de limão siciliano fresco)\n",
            "* 2 rodelas finas de gengibre\n",
            "* Folhas de hortelã fresca para decorar\n",
            "* Gelo em cubos\n",
            "\n",
            "**Xarope de Gengibre (rende aproximadamente 200ml):**\n",
            "\n",
            "* 100g de gengibre fresco, descascado e fatiado finamente\n",
            "* 100g de açúcar\n",
            "* 100ml de água\n",
            "\n",
            "**Modo de preparo do Xarope de Gengibre:**\n",
            "\n",
            "1. Em uma panela pequena, misture o gengibre, o açúcar e a água.\n",
            "2. Leve ao fogo baixo, mexendo ocasionalmente, até o açúcar dissolver completamente e o xarope engrossar levemente (cerca de 5-7 minutos).\n",
            "3. Retire do fogo e deixe esfriar completamente.  Coe o xarope para remover as fatias de gengibre.  Armazene em geladeira por até 2 semanas.\n",
            "\n",
            "\n",
            "**Modo de preparo do Pirassununga Sunset:**\n",
            "\n",
            "1. Em um copo shaker com gelo, adicione a cachaça, o suco de maracujá, o xarope de gengibre, o licor de limão siciliano (ou suco de limão) e as rodelas de gengibre.\n",
            "2. Feche o shaker e agite vigorosamente por cerca de 15 segundos, até que o exterior do shaker esteja bem gelado.\n",
            "3. Coe o drink em um copo alto com gelo fresco.\n",
            "4. Decore com folhas de hortelã fresca.\n",
            "\n",
            "\n",
            "**Observação:**  A intensidade do sabor de gengibre pode ser ajustada a gosto, adicionando mais ou menos xarope.  Se preferir um drink mais doce, adicione um pouco mais de xarope ou um toque de mel.  Para uma versão sem álcool, substitua a cachaça por suco de abacaxi ou água de coco.\n",
            "\n",
            "\n",
            "Este drink refrescante e saboroso é perfeito para desfrutar em um dia quente de verão em Pirassununga, ou em qualquer lugar que você queira um gostinho do interior paulista.  Aproveite!\n",
            "\n"
          ]
        }
      ]
    }
  ]
}